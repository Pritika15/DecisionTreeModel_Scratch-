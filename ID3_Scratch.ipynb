{
  "cells": [
    {
      "cell_type": "markdown",
      "metadata": {
        "id": "xYFe2bNJ4Snw"
      },
      "source": [
        "Decision Tree- ID3"
      ]
    },
    {
      "cell_type": "code",
      "execution_count": 1,
      "metadata": {
        "id": "aZYlA28y3Zke"
      },
      "outputs": [],
      "source": [
        "import numpy as np\n",
        "import pandas as pd"
      ]
    },
    {
      "cell_type": "code",
      "execution_count": 17,
      "metadata": {
        "id": "_P3zXkzZ4Q3F"
      },
      "outputs": [],
      "source": [
        "def find_entropy(df):\n",
        "  target=df.keys()[-1]\n",
        "  target_values=df[target].unique()\n",
        "  entropy=0\n",
        "  for value in target_values:\n",
        "    prob=len(df[df[target]==value])/len(df)  # gives prob of each value of each class\n",
        "    entropy+= -(prob*np.log2(prob)) # Done for every unique variable of target variable\n",
        "  return entropy  "
      ]
    },
    {
      "cell_type": "code",
      "execution_count": 18,
      "metadata": {
        "id": "F4y2pckZ6V45"
      },
      "outputs": [],
      "source": [
        "df=pd.read_csv('weather.csv')"
      ]
    },
    {
      "cell_type": "code",
      "execution_count": 19,
      "metadata": {
        "colab": {
          "base_uri": "https://localhost:8080/"
        },
        "id": "vbdCGBSY6ev-",
        "outputId": "c163afbe-f1d1-4de2-a012-a3282a54a9de"
      },
      "outputs": [
        {
          "data": {
            "text/plain": [
              "0.9402859586706309"
            ]
          },
          "execution_count": 19,
          "metadata": {},
          "output_type": "execute_result"
        }
      ],
      "source": [
        "find_entropy(df)"
      ]
    },
    {
      "cell_type": "code",
      "execution_count": 22,
      "metadata": {
        "id": "-Nmr07H_6zHX"
      },
      "outputs": [],
      "source": [
        "from tables import attributeset\n",
        "# find the entropy of every sub sample\n",
        "#we need the unique value of each sub sample as well as the unique values based on the target variable\n",
        "def find_avg_info_entropy(df,attribute):\n",
        "  attr_values=df[attribute].unique()\n",
        "  target=df.keys()[-1]\n",
        "  target_values=df[target].unique()\n",
        "  avg_info_entropy=0\n",
        "  for value1 in attr_values:\n",
        "    entropy_subsample=0\n",
        "    for value2 in target_values: # Check positive and Negative\n",
        "      num=len(df[df[attribute]==value1][df[target]==value2]) #AND\n",
        "      den=len(df[df[attribute]==value1])\n",
        "      prob=num/den\n",
        "      entropy_subsample+= -(prob*np.log2(prob+1e-7))\n",
        "    weight= den/len(df)  #den= number of rows with subsample\n",
        "    avg_info_entropy+=weight*entropy_subsample\n",
        "  return avg_info_entropy  \n",
        "\n"
      ]
    },
    {
      "cell_type": "code",
      "execution_count": 28,
      "metadata": {
        "colab": {
          "base_uri": "https://localhost:8080/"
        },
        "id": "etkynlCW90gr",
        "outputId": "f028f160-6fc0-448d-bde8-5f1d3df52628"
      },
      "outputs": [
        {
          "name": "stderr",
          "output_type": "stream",
          "text": [
            "/usr/local/lib/python3.7/dist-packages/ipykernel_launcher.py:12: UserWarning: Boolean Series key will be reindexed to match DataFrame index.\n",
            "  if sys.path[0] == '':\n"
          ]
        },
        {
          "data": {
            "text/plain": [
              "0.6935358915770655"
            ]
          },
          "execution_count": 28,
          "metadata": {},
          "output_type": "execute_result"
        }
      ],
      "source": [
        "find_avg_info_entropy(df,'Outlook')\n"
      ]
    },
    {
      "cell_type": "code",
      "execution_count": 29,
      "metadata": {
        "colab": {
          "base_uri": "https://localhost:8080/"
        },
        "id": "wYoisW90-_Gj",
        "outputId": "f1ddfefc-0db9-4b1e-9a4e-960a875a6737"
      },
      "outputs": [
        {
          "name": "stderr",
          "output_type": "stream",
          "text": [
            "/usr/local/lib/python3.7/dist-packages/ipykernel_launcher.py:12: UserWarning: Boolean Series key will be reindexed to match DataFrame index.\n",
            "  if sys.path[0] == '':\n"
          ]
        },
        {
          "data": {
            "text/plain": [
              "0.7884501687693255"
            ]
          },
          "execution_count": 29,
          "metadata": {},
          "output_type": "execute_result"
        }
      ],
      "source": [
        "find_avg_info_entropy(df,'Humidity')"
      ]
    },
    {
      "cell_type": "code",
      "execution_count": 30,
      "metadata": {
        "id": "zeaSHBH4_B2C"
      },
      "outputs": [],
      "source": [
        "#To find whihc sample has the highest Info Gain\n",
        "def find_winner(df):\n",
        "  df.keys()[: -1] #We find IG of only input attributes except the last coumn which is the target\n",
        "  attributes=df.keys()[: -1]\n",
        "  IG=[]\n",
        "  for attribute in attributes:\n",
        "    IG.append(find_entropy(df)- find_avg_info_entropy(df,attribute))\n",
        "  return df.keys()[: -1][np.argmax(IG)] "
      ]
    },
    {
      "cell_type": "code",
      "execution_count": 31,
      "metadata": {
        "colab": {
          "base_uri": "https://localhost:8080/",
          "height": 90
        },
        "id": "MviQg97HABN8",
        "outputId": "998598af-6ca8-49ef-87ff-742765cadcce"
      },
      "outputs": [
        {
          "name": "stderr",
          "output_type": "stream",
          "text": [
            "/usr/local/lib/python3.7/dist-packages/ipykernel_launcher.py:12: UserWarning: Boolean Series key will be reindexed to match DataFrame index.\n",
            "  if sys.path[0] == '':\n"
          ]
        },
        {
          "data": {
            "application/vnd.google.colaboratory.intrinsic+json": {
              "type": "string"
            },
            "text/plain": [
              "'Outlook'"
            ]
          },
          "execution_count": 31,
          "metadata": {},
          "output_type": "execute_result"
        }
      ],
      "source": [
        "find_winner(df)"
      ]
    },
    {
      "cell_type": "code",
      "execution_count": 35,
      "metadata": {
        "id": "2AcYSBucALRr"
      },
      "outputs": [],
      "source": [
        "#Constructing the Decision Tree\n",
        "def training(df,tree=None):\n",
        "  target=df.keys()[-1]\n",
        "  attribute=find_winner(df)\n",
        "  attr_values=df[attribute].unique()\n",
        "  if tree is None:\n",
        "    tree={}\n",
        "    tree[attribute]={} #Making the first winner the root node #Now we need to iterate over the unique values\n",
        "    for value in attr_values:\n",
        "      sub_df=df[df[attribute]==value].reset_index(drop=True) #reset_index(): The random row number received get converted into 0,1,2..\n",
        "      clvalue,count=np.unique(sub_df[target],return_counts=True) # gives 2 list: 1st: number of unique values and 2nd: Count of unique value\n",
        "      if len(count)==1: #if it belongs to just one class either yes/no\n",
        "        tree[attribute][value]=clvalue[0]\n",
        "      else:\n",
        "        tree[attribute][value]=training(sub_df)\n",
        "    return tree   \n",
        "\n",
        "          \n",
        "\n",
        "\n",
        "\n"
      ]
    },
    {
      "cell_type": "code",
      "execution_count": 40,
      "metadata": {
        "colab": {
          "base_uri": "https://localhost:8080/"
        },
        "id": "sUAT3zxBDDcs",
        "outputId": "271bc0fb-bdb9-43b4-f058-5d2b6d1e44a6"
      },
      "outputs": [
        {
          "name": "stderr",
          "output_type": "stream",
          "text": [
            "/usr/local/lib/python3.7/dist-packages/ipykernel_launcher.py:12: UserWarning: Boolean Series key will be reindexed to match DataFrame index.\n",
            "  if sys.path[0] == '':\n"
          ]
        }
      ],
      "source": [
        "tree=training(df)"
      ]
    },
    {
      "cell_type": "markdown",
      "metadata": {
        "id": "laluoNhNDa0K"
      },
      "source": [
        "Outlook is the key and under outlook we have 3 attributes : overcast,rainy and sunny as overcast has just 1 class in the target variable it will become a leaf node."
      ]
    },
    {
      "cell_type": "code",
      "execution_count": 41,
      "metadata": {
        "id": "lTrKBJSvDx5n"
      },
      "outputs": [],
      "source": [
        "def prediction(instance,tree):\n",
        "  for attribute in tree.keys():\n",
        "    value=instance[attribute]\n",
        "    tree=tree[attribute][value] #If a dictionary then recursively call else return the value and break\n",
        "    if type(tree) is dict:\n",
        "      predict=prediction(instance,tree)\n",
        "    else:\n",
        "      predict=tree\n",
        "      break\n",
        "  return predict      "
      ]
    },
    {
      "cell_type": "code",
      "execution_count": 42,
      "metadata": {
        "id": "aCFUcJUxFKbX"
      },
      "outputs": [],
      "source": [
        "df1=pd.read_csv('weather_test.csv')\n",
        "y_predict=[]\n",
        "for i in range (len(df1)):\n",
        "  instance=df1.iloc[i,:]\n",
        "  predict=prediction(instance,tree)\n",
        "  y_predict.append(predict)"
      ]
    },
    {
      "cell_type": "code",
      "execution_count": 43,
      "metadata": {
        "colab": {
          "base_uri": "https://localhost:8080/"
        },
        "id": "Q21nyDcXF5_i",
        "outputId": "3f70695a-dcc0-4426-f62f-222f3adbc052"
      },
      "outputs": [
        {
          "data": {
            "text/plain": [
              "[0, 1]"
            ]
          },
          "execution_count": 43,
          "metadata": {},
          "output_type": "execute_result"
        }
      ],
      "source": [
        "y_predict"
      ]
    }
  ],
  "metadata": {
    "colab": {
      "collapsed_sections": [],
      "provenance": []
    },
    "kernelspec": {
      "display_name": "Python 3",
      "name": "python3"
    },
    "language_info": {
      "name": "python"
    }
  },
  "nbformat": 4,
  "nbformat_minor": 0
}
